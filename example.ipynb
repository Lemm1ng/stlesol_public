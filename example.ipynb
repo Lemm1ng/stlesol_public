{
 "cells": [
  {
   "cell_type": "code",
   "execution_count": 1,
   "metadata": {
    "collapsed": true
   },
   "outputs": [],
   "source": [
    "import scipy as scp\n",
    "import numpy as np\n",
    "import pandas as pd\n",
    "import matplotlib.pyplot as plt\n",
    "import matplotlib\n",
    "import time\n",
    "import seaborn as sns\n",
    "from scipy.interpolate import interp1d\n",
    "import stlesol as sls"
   ]
  },
  {
   "cell_type": "markdown",
   "metadata": {},
   "source": [
    "### Overdamped Langevin equation\n",
    "\n",
    "$$\\gamma \\frac{dx(t)}{dt} = -\\frac{dU(x)}{dt} + F_{st}^{\\alpha}(t)$$\n",
    "\n",
    "The alpha-stable distribution may be reduced to the Normal distribution by setting $\\alpha$ parameter equal to __2__. Here\n",
    "\n",
    "$\\gamma$ -- friction coefficient\n",
    "\n",
    "$U(x)$ -- stochastic potential with a given autocorrelation function\n",
    "\n",
    "$F_{st}^{\\alpha}(t)$ -- stochastic force with from alpha-stable distribution"
   ]
  },
  {
   "cell_type": "code",
   "execution_count": 2,
   "metadata": {},
   "outputs": [],
   "source": [
    "#  Parameters for the Langevin equation (LE) solver\n",
    "dt = 2e-4\n",
    "dx = 2e-2\n",
    "t_steps = 10000\n",
    "t_sol = np.arange(0, (t_steps + 1) * dt, dt)\n",
    "x_lim = dx*(2**18)\n",
    "n_attempts = 10000\n",
    "alpha = 2.0\n",
    "U0= 1.0\n",
    "K_alpha = 1.0"
   ]
  },
  {
   "cell_type": "code",
   "execution_count": 7,
   "metadata": {
    "scrolled": false
   },
   "outputs": [],
   "source": [
    "# LE solution\n",
    "x_sol = sls.solve_le_corr_alpha_euler_periodic(dt, dx, t_steps, x_lim, sls.acf_polynomial,\n",
    "                                  n_attempts=n_attempts, alpha=alpha, U0=U0, K_alpha=K_alpha)"
   ]
  },
  {
   "cell_type": "code",
   "execution_count": 12,
   "metadata": {},
   "outputs": [
    {
     "name": "stderr",
     "output_type": "stream",
     "text": [
      "C:\\ProgramData\\Anaconda3\\lib\\site-packages\\ipykernel_launcher.py:2: RuntimeWarning: divide by zero encountered in log\n",
      "  \n"
     ]
    },
    {
     "data": {
      "image/png": "[encoded data removed]",
      "text/plain": [
       "<matplotlib.figure.Figure at 0x1bd0a900400>"
      ]
     },
     "metadata": {},
     "output_type": "display_data"
    }
   ],
   "source": [
    "%matplotlib inline\n",
    "plt.plot(np.log(t_sol), np.log(sls.calculate_eamsd(x_sol)));\n",
    "plt.ylabel('Mean square displacement')\n",
    "plt.xlabel('$t, time$')\n",
    "plt.text(-5, -1, str('slope = ') + str(np.polyfit(np.log(t_sol[1:]), np.log(sls.calculate_eamsd(x_sol)[1:]), 1)[0]));"
   ]
  },
  {
   "cell_type": "markdown",
   "metadata": {},
   "source": [
    "# First passage time calculations"
   ]
  },
  {
   "cell_type": "code",
   "execution_count": 5,
   "metadata": {},
   "outputs": [],
   "source": [
    "t_fpt = sls.calculate_fpt(t_sol, x_sol, dx_barrier=1.)"
   ]
  },
  {
   "cell_type": "code",
   "execution_count": 13,
   "metadata": {},
   "outputs": [
    {
     "data": {
      "text/plain": [
       "<matplotlib.text.Text at 0x1bd081990f0>"
      ]
     },
     "execution_count": 13,
     "metadata": {},
     "output_type": "execute_result"
    },
    {
     "data": {
      "image/png": "[encoded data removed]",
      "text/plain": [
       "<matplotlib.figure.Figure at 0x1bd0a780080>"
      ]
     },
     "metadata": {},
     "output_type": "display_data"
    }
   ],
   "source": [
    "fpt_bins = plt.hist(t_fpt[t_fpt < 1000], bins = 100)\n",
    "fpt_probs = fpt_bins[0] / t_fpt.size\n",
    "fpt_bins_centers = (fpt_bins[1][:-1] + fpt_bins[1][1:]) / 2\n",
    "plt.xlabel('First passage time, s')\n",
    "plt.ylabel('Counts')"
   ]
  }
 ],
 "metadata": {
  "kernelspec": {
   "display_name": "Python 3",
   "language": "python",
   "name": "python3"
  },
  "language_info": {
   "codemirror_mode": {
    "name": "ipython",
    "version": 3
   },
   "file_extension": ".py",
   "mimetype": "text/x-python",
   "name": "python",
   "nbconvert_exporter": "python",
   "pygments_lexer": "ipython3",
   "version": "3.6.1"
  }
 },
 "nbformat": 4,
 "nbformat_minor": 2
}
